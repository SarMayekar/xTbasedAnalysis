{
 "cells": [
  {
   "cell_type": "code",
   "execution_count": 1,
   "id": "793c4d25",
   "metadata": {},
   "outputs": [
    {
     "name": "stdout",
     "output_type": "stream",
     "text": [
      "git-lfs/3.7.0 (GitHub; windows amd64; go 1.24.4; git 92dddf56)\n"
     ]
    }
   ],
   "source": [
    "!git lfs version"
   ]
  },
  {
   "cell_type": "code",
   "execution_count": 2,
   "id": "afe670c2",
   "metadata": {},
   "outputs": [],
   "source": [
    "import os\n",
    "os.chdir(\"C:/Users/hp/xT-Based Analysis\")"
   ]
  },
  {
   "cell_type": "code",
   "execution_count": 3,
   "id": "479458a8",
   "metadata": {},
   "outputs": [
    {
     "name": "stdout",
     "output_type": "stream",
     "text": [
      "Updated Git hooks.\n",
      "Git LFS initialized.\n"
     ]
    }
   ],
   "source": [
    "!git lfs install"
   ]
  },
  {
   "cell_type": "code",
   "execution_count": 4,
   "id": "3c47e60a",
   "metadata": {},
   "outputs": [
    {
     "name": "stdout",
     "output_type": "stream",
     "text": [
      "Tracking \"*.csv\"\n"
     ]
    }
   ],
   "source": [
    "!git lfs track \"*.csv\""
   ]
  },
  {
   "cell_type": "code",
   "execution_count": 5,
   "id": "ec711353",
   "metadata": {},
   "outputs": [
    {
     "name": "stdout",
     "output_type": "stream",
     "text": [
      "*.csv filter=lfs diff=lfs merge=lfs -text\n"
     ]
    }
   ],
   "source": [
    "!cat .gitattributes"
   ]
  },
  {
   "cell_type": "code",
   "execution_count": 6,
   "id": "a83d0367",
   "metadata": {},
   "outputs": [
    {
     "name": "stdout",
     "output_type": "stream",
     "text": [
      "rm 'wsl_events_all.csv'\n"
     ]
    }
   ],
   "source": [
    "!git rm --cached wsl_events_all.csv"
   ]
  },
  {
   "cell_type": "code",
   "execution_count": 7,
   "id": "dc115360",
   "metadata": {},
   "outputs": [],
   "source": [
    "!git add .gitattributes"
   ]
  },
  {
   "cell_type": "code",
   "execution_count": 8,
   "id": "6b8ca2dc",
   "metadata": {},
   "outputs": [
    {
     "name": "stdout",
     "output_type": "stream",
     "text": [
      "[main c8263c9] Add Git LFS tracking for CSV files\n",
      " 2 files changed, 1 insertion(+), 1440593 deletions(-)\n",
      " create mode 100644 .gitattributes\n",
      " delete mode 100644 wsl_events_all.csv\n"
     ]
    }
   ],
   "source": [
    "!git commit -m \"Add Git LFS tracking for CSV files\""
   ]
  },
  {
   "cell_type": "code",
   "execution_count": 9,
   "id": "2224b23a",
   "metadata": {},
   "outputs": [],
   "source": [
    "!git add wsl_events_all.csv"
   ]
  },
  {
   "cell_type": "code",
   "execution_count": 10,
   "id": "148dcfcb",
   "metadata": {},
   "outputs": [
    {
     "name": "stdout",
     "output_type": "stream",
     "text": [
      "[main 8fb5d54] Add wsl_events_all.csv via Git LFS\n",
      " 1 file changed, 3 insertions(+)\n",
      " create mode 100644 wsl_events_all.csv\n"
     ]
    }
   ],
   "source": [
    "!git commit -m \"Add wsl_events_all.csv via Git LFS\""
   ]
  },
  {
   "cell_type": "code",
   "execution_count": 11,
   "id": "61bfe661",
   "metadata": {},
   "outputs": [
    {
     "name": "stdout",
     "output_type": "stream",
     "text": [
      "Uploading LFS objects: 100% (1/1), 211 MB | 11 MB/s, done.\n"
     ]
    },
    {
     "name": "stderr",
     "output_type": "stream",
     "text": [
      "remote: error: Trace: df202768f068d689d0fd0bab8d040856069849674547426b85fb80cfefd6ac96        \n",
      "remote: error: See https://gh.io/lfs for more information.        \n",
      "remote: error: File wsl_events_all.csv is 200.14 MB; this exceeds GitHub's file size limit of 100.00 MB        \n",
      "remote: error: GH001: Large files detected. You may want to try Git Large File Storage - https://git-lfs.github.com.        \n",
      "To https://github.com/SarMayekar/xTbasedAnalysis.git\n",
      " ! [remote rejected] main -> main (pre-receive hook declined)\n",
      "error: failed to push some refs to 'https://github.com/SarMayekar/xTbasedAnalysis.git'\n"
     ]
    }
   ],
   "source": [
    "!git push origin main"
   ]
  },
  {
   "cell_type": "code",
   "execution_count": 12,
   "id": "327f09a3",
   "metadata": {},
   "outputs": [
    {
     "name": "stdout",
     "output_type": "stream",
     "text": [
      "Checking LFS status...\n",
      "62f58a9949 * wsl_events_all.csv\n"
     ]
    }
   ],
   "source": [
    "print(\"Checking LFS status...\")\n",
    "!git lfs ls-files"
   ]
  },
  {
   "cell_type": "code",
   "execution_count": 13,
   "id": "1ff37fd1",
   "metadata": {},
   "outputs": [
    {
     "name": "stdout",
     "output_type": "stream",
     "text": [
      "\n",
      "Checking repository size...\n",
      "count: 28\n",
      "size: 64.32 MiB\n",
      "in-pack: 0\n",
      "packs: 0\n",
      "size-pack: 0 bytes\n",
      "prune-packable: 0\n",
      "garbage: 0\n",
      "size-garbage: 0 bytes\n"
     ]
    }
   ],
   "source": [
    "print(\"\\nChecking repository size...\")\n",
    "!git count-objects -vH"
   ]
  },
  {
   "cell_type": "code",
   "execution_count": 14,
   "id": "3bb8189b",
   "metadata": {},
   "outputs": [
    {
     "name": "stdout",
     "output_type": "stream",
     "text": [
      "On branch main\n",
      "Changes not staged for commit:\n",
      "  (use \"git add <file>...\" to update what will be committed)\n",
      "  (use \"git restore <file>...\" to discard changes in working directory)\n",
      "\tmodified:   wsl_matches_all.csv\n",
      "\n",
      "Untracked files:\n",
      "  (use \"git add <file>...\" to include in what will be committed)\n",
      "\t.ipynb_checkpoints/Untitled1-checkpoint.ipynb\n",
      "\tUntitled1.ipynb\n",
      "\n",
      "no changes added to commit (use \"git add\" and/or \"git commit -a\")\n",
      "62f58a9949 * wsl_events_all.csv\n",
      " Volume in drive C has no label.\n",
      " Volume Serial Number is 3EE4-4128\n",
      "\n",
      " Directory of C:\\Users\\hp\\xT-Based Analysis\n",
      "\n",
      "23-09-2025  00:30    <DIR>          .\n",
      "23-09-2025  00:19    <DIR>          ..\n",
      "23-09-2025  00:27                43 .gitattributes\n",
      "23-09-2025  00:09                64 .gitignore.txt\n",
      "23-09-2025  00:25    <DIR>          .ipynb_checkpoints\n",
      "31-08-2025  23:05           174,697 1. Data Acquisition & Game State.ipynb\n",
      "27-08-2025  06:40           176,371 2. xT Model Construction.ipynb\n",
      "27-08-2025  17:50            25,848 3. Decision Making.ipynb\n",
      "27-08-2025  18:40           165,342 4. Game State Integration.ipynb\n",
      "30-08-2025  08:03           565,284 5. Visualizations.ipynb\n",
      "21-08-2025  01:25         4,463,637 job-16061275-result.jsonl\n",
      "23-09-2025  00:17                63 README.md\n",
      "27-08-2025  04:11            12,044 Untitled.ipynb\n",
      "23-09-2025  00:30             5,632 Untitled1.ipynb\n",
      "23-09-2025  00:27       211,298,325 wsl_events_all.csv\n",
      "23-09-2025  00:27           122,583 wsl_matches_all.csv\n",
      "              13 File(s)    217,009,933 bytes\n",
      "               3 Dir(s)  22,681,882,624 bytes free\n"
     ]
    }
   ],
   "source": [
    "# Cell 1: Check repository status\n",
    "import os\n",
    "os.chdir(\"C:/Users/hp/xT-Based Analysis\")\n",
    "\n",
    "# Check what files are tracked by Git\n",
    "!git status\n",
    "\n",
    "# Check what files are tracked by LFS\n",
    "!git lfs ls-files\n",
    "\n",
    "# List all files in your directory\n",
    "!dir"
   ]
  },
  {
   "cell_type": "code",
   "execution_count": 15,
   "id": "b226fad9",
   "metadata": {},
   "outputs": [
    {
     "name": "stdout",
     "output_type": "stream",
     "text": [
      "origin\thttps://github.com/SarMayekar/xTbasedAnalysis.git (fetch)\n",
      "origin\thttps://github.com/SarMayekar/xTbasedAnalysis.git (push)\n",
      "8fb5d54 Add wsl_events_all.csv via Git LFS\n",
      "c8263c9 Add Git LFS tracking for CSV files\n",
      "9189d25 Merge branch 'main' of https://github.com/SarMayekar/xTbasedAnalysis\n",
      "566f5f6 Added xT based Analysis\n",
      "00fc42d First commit - xT based Analysis\n"
     ]
    }
   ],
   "source": [
    "# Cell 2: Check remote repository status\n",
    "!git remote -v\n",
    "!git log --oneline -5"
   ]
  },
  {
   "cell_type": "code",
   "execution_count": null,
   "id": "030a169c",
   "metadata": {},
   "outputs": [],
   "source": []
  }
 ],
 "metadata": {
  "kernelspec": {
   "display_name": "Python (football)",
   "language": "python",
   "name": "football"
  },
  "language_info": {
   "codemirror_mode": {
    "name": "ipython",
    "version": 3
   },
   "file_extension": ".py",
   "mimetype": "text/x-python",
   "name": "python",
   "nbconvert_exporter": "python",
   "pygments_lexer": "ipython3",
   "version": "3.10.18"
  }
 },
 "nbformat": 4,
 "nbformat_minor": 5
}
