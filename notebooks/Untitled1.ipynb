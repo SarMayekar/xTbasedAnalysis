{
 "cells": [
  {
   "cell_type": "code",
   "execution_count": 5,
   "id": "b4851b5f",
   "metadata": {},
   "outputs": [
    {
     "name": "stdout",
     "output_type": "stream",
     "text": [
      "Deleted: 1. Data Acquisition & Game State.ipynb\n",
      "Deleted: 2. xT Model Construction.ipynb\n",
      "Deleted: 3. Decision Making.ipynb\n",
      "Deleted: 4. Game State Integration.ipynb\n",
      "Deleted: 5. Visualizations.ipynb\n",
      "Deleted: job-16061275-result.jsonl\n",
      "Deleted: Untitled.ipynb\n",
      "Deleted: Untitled1.ipynb\n",
      "Deleted: wsl_events_all.csv\n",
      "Deleted: wsl_events_all.csv.backup\n",
      "Deleted: wsl_matches_all.csv\n",
      "Deleted: wsl_matches_all.csv.backup\n"
     ]
    }
   ],
   "source": [
    "import os\n",
    "os.chdir(r\"C:\\Users\\hp\\xT-Based Analysis\")\n",
    "\n",
    "# Delete all files except README.md\n",
    "import glob\n",
    "files_to_keep = ['README.md', '.git']\n",
    "for file in glob.glob('*'):\n",
    "    if file not in files_to_keep and os.path.isfile(file):\n",
    "        os.remove(file)\n",
    "        print(f\"Deleted: {file}\")"
   ]
  },
  {
   "cell_type": "code",
   "execution_count": 6,
   "id": "2337e0c2",
   "metadata": {},
   "outputs": [
    {
     "name": "stdout",
     "output_type": "stream",
     "text": [
      "Created: data/raw\n",
      "Created: data/processed\n",
      "Created: notebooks\n",
      "Created: src\n",
      "Created: reports\n",
      "Created: docs\n"
     ]
    }
   ],
   "source": [
    "# Create folders\n",
    "folders = ['data/raw', 'data/processed', 'notebooks', 'src', 'reports', 'docs']\n",
    "for folder in folders:\n",
    "    os.makedirs(folder, exist_ok=True)\n",
    "    print(f\"Created: {folder}\")"
   ]
  },
  {
   "cell_type": "code",
   "execution_count": null,
   "id": "e642e5dc",
   "metadata": {},
   "outputs": [],
   "source": []
  }
 ],
 "metadata": {
  "kernelspec": {
   "display_name": "Python (football)",
   "language": "python",
   "name": "football"
  },
  "language_info": {
   "codemirror_mode": {
    "name": "ipython",
    "version": 3
   },
   "file_extension": ".py",
   "mimetype": "text/x-python",
   "name": "python",
   "nbconvert_exporter": "python",
   "pygments_lexer": "ipython3",
   "version": "3.10.18"
  }
 },
 "nbformat": 4,
 "nbformat_minor": 5
}
