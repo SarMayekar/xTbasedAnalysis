{
 "cells": [
  {
   "cell_type": "code",
   "execution_count": 30,
   "id": "384cac8c",
   "metadata": {},
   "outputs": [],
   "source": [
    "import pandas as pd\n",
    "import numpy as np\n",
    "from pathlib import Path\n",
    "import time\n",
    "import logging\n",
    "import math\n",
    "from tqdm import tqdm\n",
    "\n",
    "# Try to import KDTree for faster neighbor queries\n",
    "try:\n",
    "    from scipy.spatial import cKDTree as KDTree\n",
    "    KD_AVAILABLE = True\n",
    "except Exception:\n",
    "    KD_AVAILABLE = False"
   ]
  },
  {
   "cell_type": "code",
   "execution_count": 23,
   "id": "3a545324",
   "metadata": {},
   "outputs": [],
   "source": [
    "# ---------- CONFIG ----------\n",
    "BASE = Path(r\"E:\\MSc Big Data Analytics in Football\\WSL project\\Statsbombpy data\")\n",
    "\n",
    "SAMPLE_FILE = BASE / \"wsl_actions_with_xt_SAMPLE.csv\"\n",
    "FULL_ACTIONS_FILE = BASE / \"wsl_actions_with_xt_OPENPLAY.csv\"\n",
    "FULL_EVENTS_FILE = BASE / \"wsl_events_with_gamestate_zones.csv\"\n",
    "ZONE_XT_FILE = BASE / \"zone_xt_values.csv\"\n",
    "\n",
    "# Outputs\n",
    "ENHANCED_SAMPLE_FILE = BASE / \"wsl_actions_with_realistic_efficiency_SAMPLE.csv\"\n",
    "PLAYER_AGG_CSV = BASE / \"player_decision_efficiency_summary.csv\"\n",
    "TEAM_AGG_CSV = BASE / \"team_decision_efficiency_summary.csv\"\n",
    "SAMPLE_OUT_QUICK = BASE / \"wsl_actions_with_decision_efficiency_SAMPLE_quick.csv\"\n",
    "\n",
    "# Parameters\n",
    "MAX_DISTANCE = 30.0\n",
    "TIME_WINDOW = 5.0\n",
    "EPS = 1e-9\n",
    "BATCH_MATCHES = 40\n",
    "SAMPLE_ONLY = False\n",
    "\n",
    "logging.basicConfig(level=logging.INFO, format=\"%(asctime)s - %(levelname)s - %(message)s\")\n",
    "log = logging.getLogger(\"Phase3\")"
   ]
  },
  {
   "cell_type": "code",
   "execution_count": 24,
   "id": "f0649b45",
   "metadata": {},
   "outputs": [],
   "source": [
    "# ---------- UTILS ----------\n",
    "def safe_assign_zone(x, y, GRID_X=12, GRID_Y=8, PITCH_W=120.0, PITCH_H=80.0):\n",
    "    try:\n",
    "        if pd.isna(x) or pd.isna(y):\n",
    "            return np.nan\n",
    "        gx = min(int(x // (PITCH_W / GRID_X)), GRID_X - 1)\n",
    "        gy = min(int(y // (PITCH_H / GRID_Y)), GRID_Y - 1)\n",
    "        return gy * GRID_X + gx\n",
    "    except Exception:\n",
    "        return np.nan\n",
    "\n",
    "def ensure_event_seconds(df):\n",
    "    if \"event_sec\" in df.columns and not df[\"event_sec\"].isnull().all():\n",
    "        return df\n",
    "    if \"timestamp\" in df.columns:\n",
    "        try:\n",
    "            df[\"event_time\"] = pd.to_datetime(df[\"timestamp\"])\n",
    "            df[\"event_sec\"] = (df[\"event_time\"] - df[\"event_time\"].dt.normalize()).dt.total_seconds()\n",
    "            return df\n",
    "        except Exception:\n",
    "            pass\n",
    "    if (\"minute\" in df.columns) and (\"second\" in df.columns):\n",
    "        df[\"event_sec\"] = df[\"minute\"].fillna(0).astype(float) * 60.0 + df[\"second\"].fillna(0).astype(float)\n",
    "    else:\n",
    "        df[\"event_sec\"] = np.nan\n",
    "    return df"
   ]
  },
  {
   "cell_type": "code",
   "execution_count": 25,
   "id": "7236c5cb",
   "metadata": {},
   "outputs": [
    {
     "name": "stderr",
     "output_type": "stream",
     "text": [
      "2025-08-27 17:05:13,090 - INFO - Loading sample + xT lookup...\n"
     ]
    }
   ],
   "source": [
    "# ---------- LOAD ----------\n",
    "log.info(\"Loading sample + xT lookup...\")\n",
    "actions_sample = pd.read_csv(SAMPLE_FILE)\n",
    "zone_xt_df = pd.read_csv(ZONE_XT_FILE)\n",
    "xt_lookup = zone_xt_df.set_index(\"zone\")[\"xT_value\"].to_dict()\n",
    "def get_xt(zone): return float(xt_lookup.get(int(zone), 0.0)) if pd.notna(zone) else 0.0\n",
    "actions_sample = ensure_event_seconds(actions_sample)"
   ]
  },
  {
   "cell_type": "code",
   "execution_count": 26,
   "id": "b6151d8e",
   "metadata": {},
   "outputs": [],
   "source": [
    "# ---------- CARDINAL ALTERNATIVES ----------\n",
    "def cardinal_alts(row, d=15.0):\n",
    "    sx, sy = row[\"location_x\"], row[\"location_y\"]\n",
    "    if pd.isna(sx) or pd.isna(sy): return []\n",
    "    return [(sx+d, sy), (sx, sy+d), (sx-d, sy), (sx, sy-d)]\n",
    "\n",
    "def alt_xts(sx, sy, locs):\n",
    "    start = get_xt(safe_assign_zone(sx, sy))\n",
    "    return [get_xt(safe_assign_zone(x, y)) - start for x, y in locs]\n",
    "\n",
    "actions_sample[\"alternative_locations\"] = actions_sample.apply(cardinal_alts, axis=1)\n",
    "actions_sample[\"alternative_xt\"] = actions_sample.apply(lambda r: alt_xts(r[\"location_x\"], r[\"location_y\"], r[\"alternative_locations\"]), axis=1)\n",
    "actions_sample[\"best_alternative_xt\"] = actions_sample[\"alternative_xt\"].apply(lambda x: max(x) if x else 0.0)\n",
    "actions_sample[\"decision_efficiency_delta\"] = actions_sample[\"xT_added\"] - actions_sample[\"best_alternative_xt\"]\n",
    "actions_sample[\"decision_efficiency_ratio\"] = np.where(\n",
    "    np.abs(actions_sample[\"best_alternative_xt\"]) > EPS,\n",
    "    actions_sample[\"xT_added\"] / actions_sample[\"best_alternative_xt\"],\n",
    "    0.0\n",
    ")"
   ]
  },
  {
   "cell_type": "code",
   "execution_count": 27,
   "id": "34a1f31b",
   "metadata": {},
   "outputs": [
    {
     "name": "stderr",
     "output_type": "stream",
     "text": [
      "2025-08-27 17:05:52,545 - INFO - Loading full events...\n"
     ]
    }
   ],
   "source": [
    "# ---------- FULL EVENTS INDEX ----------\n",
    "log.info(\"Loading full events...\")\n",
    "full_events = pd.read_csv(FULL_EVENTS_FILE, low_memory=False)\n",
    "full_events = ensure_event_seconds(full_events)\n",
    "fe_valid = full_events[full_events[\"location_x\"].notna() & full_events[\"location_y\"].notna()].copy()\n",
    "event_index = {}\n",
    "for (mid, team), df in fe_valid.groupby([\"match_id\", \"team\"]):\n",
    "    coords = df[[\"location_x\", \"location_y\"]].to_numpy(float)\n",
    "    secs = df[\"event_sec\"].to_numpy(float)\n",
    "    players = df[\"player\"].to_numpy(object)\n",
    "    kdtree = KDTree(coords) if KD_AVAILABLE and len(coords) else None\n",
    "    event_index[(mid, team)] = {\"coords\": coords, \"secs\": secs, \"players\": players, \"kdtree\": kdtree}\n",
    "\n",
    "def teammate_alts(row):\n",
    "    mid, team = row.get(\"match_id\"), row.get(\"team\")\n",
    "    sx, sy, ssec = row.get(\"location_x\"), row.get(\"location_y\"), row.get(\"event_sec\", np.nan)\n",
    "    if pd.isna(mid) or pd.isna(team) or pd.isna(sx) or pd.isna(sy): return []\n",
    "    idx = event_index.get((mid, team))\n",
    "    if not idx: return [(sx-10, sy)]\n",
    "    coords, secs, players, kdtree = idx[\"coords\"], idx[\"secs\"], idx[\"players\"], idx[\"kdtree\"]\n",
    "    if kdtree is not None:\n",
    "        inds = kdtree.query_ball_point([sx, sy], r=MAX_DISTANCE)\n",
    "    else:\n",
    "        d2 = (coords[:,0]-sx)**2 + (coords[:,1]-sy)**2\n",
    "        inds = np.where(d2 <= MAX_DISTANCE**2)[0]\n",
    "    if not math.isnan(ssec):\n",
    "        inds = [i for i in inds if not math.isnan(secs[i]) and abs(secs[i]-ssec) <= TIME_WINDOW]\n",
    "    locs, seen = [], set()\n",
    "    for i in inds:\n",
    "        if players[i] == row.get(\"player\"): continue\n",
    "        if players[i] in seen: continue\n",
    "        seen.add(players[i]); locs.append((coords[i,0], coords[i,1]))\n",
    "    return locs if locs else [(sx-10, sy)]"
   ]
  },
  {
   "cell_type": "code",
   "execution_count": 28,
   "id": "911fa915",
   "metadata": {},
   "outputs": [],
   "source": [
    "# ---------- SAMPLE: REALISTIC ----------\n",
    "actions_sample[\"realistic_alternatives\"] = actions_sample.apply(teammate_alts, axis=1)\n",
    "actions_sample[\"realistic_alternative_xt\"] = actions_sample.apply(lambda r: alt_xts(r[\"location_x\"], r[\"location_y\"], r[\"realistic_alternatives\"]), axis=1)\n",
    "actions_sample[\"best_realistic_alternative_xt\"] = actions_sample[\"realistic_alternative_xt\"].apply(lambda x: max(x) if x else 0.0)\n",
    "actions_sample[\"realistic_decision_efficiency_delta\"] = actions_sample[\"xT_added\"] - actions_sample[\"best_realistic_alternative_xt\"]\n",
    "actions_sample[\"realistic_decision_efficiency_ratio\"] = np.where(\n",
    "    np.abs(actions_sample[\"best_realistic_alternative_xt\"]) > EPS,\n",
    "    actions_sample[\"xT_added\"] / actions_sample[\"best_realistic_alternative_xt\"],\n",
    "    0.0\n",
    ")\n",
    "actions_sample.to_csv(ENHANCED_SAMPLE_FILE, index=False)\n",
    "\n",
    "if SAMPLE_ONLY:\n",
    "    raise SystemExit(\"Sample only mode complete\")"
   ]
  },
  {
   "cell_type": "code",
   "execution_count": 31,
   "id": "15cee6e8",
   "metadata": {},
   "outputs": [
    {
     "name": "stderr",
     "output_type": "stream",
     "text": [
      "2025-08-27 17:14:53,122 - INFO - Loading full actions...\n",
      "Processing match-team groups: 100%|██████████████████████████████████████████████████| 652/652 [05:00<00:00,  2.17it/s]\n"
     ]
    }
   ],
   "source": [
    "# ---------- FULL ACTIONS ----------\n",
    "log.info(\"Loading full actions...\")\n",
    "full_actions = pd.read_csv(FULL_ACTIONS_FILE, low_memory=False)\n",
    "full_actions = ensure_event_seconds(full_actions)\n",
    "full_actions = full_actions[full_actions[\"type\"].isin([\"Pass\",\"Carry\"])].copy()\n",
    "\n",
    "res_parts = []\n",
    "\n",
    "# Add tqdm to groupby iterator\n",
    "for (mid, team), group in tqdm(full_actions.groupby([\"match_id\",\"team\"]), \n",
    "                               desc=\"Processing match-team groups\"):\n",
    "    bests, n_alts = [], []\n",
    "    for _, r in group.iterrows():\n",
    "        alts = teammate_alts(r)\n",
    "        xts = alt_xts(r[\"location_x\"], r[\"location_y\"], alts)\n",
    "        bests.append(max(xts) if xts else 0.0)\n",
    "        n_alts.append(len(xts))\n",
    "    group = group.copy()\n",
    "    group[\"best_realistic_alternative_xt\"] = bests\n",
    "    group[\"num_alternatives_considered\"] = n_alts\n",
    "    group[\"realistic_decision_efficiency_delta\"] = (\n",
    "        group[\"xT_added\"] - group[\"best_realistic_alternative_xt\"]\n",
    "    )\n",
    "    group[\"realistic_decision_efficiency_ratio\"] = np.where(\n",
    "        np.abs(group[\"best_realistic_alternative_xt\"]) > EPS,\n",
    "        group[\"xT_added\"] / group[\"best_realistic_alternative_xt\"],\n",
    "        0.0\n",
    "    )\n",
    "    res_parts.append(group)\n",
    "\n",
    "results = pd.concat(res_parts)"
   ]
  },
  {
   "cell_type": "code",
   "execution_count": 32,
   "id": "1b822bc1",
   "metadata": {},
   "outputs": [],
   "source": [
    "# ---------- AGGREGATE ----------\n",
    "player_agg = results.groupby(\"player\").agg(\n",
    "    actions_count=(\"xT_added\",\"count\"),\n",
    "    total_xT=(\"xT_added\",\"sum\"),\n",
    "    avg_efficiency_delta=(\"realistic_decision_efficiency_delta\",\"mean\"),\n",
    "    avg_efficiency_ratio=(\"realistic_decision_efficiency_ratio\",\"mean\")\n",
    ").reset_index().sort_values(\"avg_efficiency_delta\", ascending=False)\n",
    "\n",
    "team_agg = results.groupby(\"team\").agg(\n",
    "    actions_count=(\"xT_added\",\"count\"),\n",
    "    total_xT=(\"xT_added\",\"sum\"),\n",
    "    avg_efficiency_delta=(\"realistic_decision_efficiency_delta\",\"mean\"),\n",
    "    avg_efficiency_ratio=(\"realistic_decision_efficiency_ratio\",\"mean\")\n",
    ").reset_index().sort_values(\"total_xT\", ascending=False)"
   ]
  },
  {
   "cell_type": "code",
   "execution_count": 33,
   "id": "c11a9ee7",
   "metadata": {},
   "outputs": [
    {
     "name": "stderr",
     "output_type": "stream",
     "text": [
      "2025-08-27 17:20:37,006 - INFO - Phase 3 complete ✅ — Outputs saved (CSV only)\n"
     ]
    }
   ],
   "source": [
    "# ---------- SAVE ----------\n",
    "player_agg.to_csv(PLAYER_AGG_CSV, index=False)\n",
    "team_agg.to_csv(TEAM_AGG_CSV, index=False)\n",
    "results.sample(n=min(5000,len(results)), random_state=1).to_csv(SAMPLE_OUT_QUICK, index=False)\n",
    "\n",
    "log.info(\"Phase 3 complete ✅ — Outputs saved (CSV only)\")"
   ]
  },
  {
   "cell_type": "code",
   "execution_count": 34,
   "id": "8f32448d",
   "metadata": {},
   "outputs": [
    {
     "name": "stdout",
     "output_type": "stream",
     "text": [
      "E:\\MSc Big Data Analytics in Football\\WSL project\\Statsbombpy data\\player_decision_efficiency_summary.csv exists: True\n",
      "E:\\MSc Big Data Analytics in Football\\WSL project\\Statsbombpy data\\team_decision_efficiency_summary.csv exists: True\n",
      "E:\\MSc Big Data Analytics in Football\\WSL project\\Statsbombpy data\\wsl_actions_with_decision_efficiency_SAMPLE_quick.csv exists: True\n"
     ]
    }
   ],
   "source": [
    "from pathlib import Path\n",
    "\n",
    "for f in [PLAYER_AGG_CSV, TEAM_AGG_CSV, SAMPLE_OUT_QUICK]:\n",
    "    print(f, \"exists:\", Path(f).exists())"
   ]
  },
  {
   "cell_type": "code",
   "execution_count": 35,
   "id": "e447f888",
   "metadata": {},
   "outputs": [
    {
     "name": "stdout",
     "output_type": "stream",
     "text": [
      "Players shape: (408, 5)\n",
      "             player  actions_count  total_xT  avg_efficiency_delta  \\\n",
      "0  Benedicte Håland              2  0.135966              0.066056   \n",
      "1      Poppy Wilson              5  0.103079              0.040552   \n",
      "2     Sophie Harris             21  1.013436              0.040095   \n",
      "3   Liberty Piggott              1 -0.102559              0.030436   \n",
      "4    Marie Hourihan             34  1.041581              0.028459   \n",
      "\n",
      "   avg_efficiency_ratio  \n",
      "0              0.233491  \n",
      "1              0.352902  \n",
      "2           9999.990890  \n",
      "3              0.771149  \n",
      "4          11924.964984  \n",
      "\n",
      "Teams shape: (14, 5)\n",
      "                         team  actions_count   total_xT  avg_efficiency_delta  \\\n",
      "0            Bristol City WFC          26298  12.722244             -0.012951   \n",
      "1                 Aston Villa          11507   2.650506             -0.013991   \n",
      "2               Liverpool WFC          19570  -7.717049             -0.016292   \n",
      "3             Yeovil Town LFC           7693  -8.352564             -0.014731   \n",
      "4  Brighton & Hove Albion WFC          33208 -11.392648             -0.016126   \n",
      "\n",
      "   avg_efficiency_ratio  \n",
      "0            171.829506  \n",
      "1             49.322035  \n",
      "2             20.698021  \n",
      "3            101.119437  \n",
      "4             76.794426  \n",
      "\n",
      "Sample shape: (5000, 25)\n",
      "                                     id  match_id  minute  second   type  \\\n",
      "0  5de86857-6363-42c3-850b-c0836641248f   2275121       0      18  Carry   \n",
      "1  f2b0fed3-8afb-44a8-9389-336750921d95   3775588      54      23  Carry   \n",
      "2  4053f489-a615-4f03-9171-06bbfea2b21b     19728      48      42  Carry   \n",
      "3  7c23b401-0202-4f23-9bd5-7cbc9cae06af   2275154      89      57   Pass   \n",
      "4  8c2d4b44-f650-4f7f-94d5-1cb07190b06b   3775580       1      39   Pass   \n",
      "\n",
      "   possession          possession_team                     team  \\\n",
      "0           2              Arsenal WFC              Arsenal WFC   \n",
      "1         127  Tottenham Hotspur Women  Tottenham Hotspur Women   \n",
      "2         105      Manchester City WFC      Manchester City WFC   \n",
      "3         200        Manchester United        Manchester United   \n",
      "4           6              Chelsea FCW              Chelsea FCW   \n",
      "\n",
      "                  player  location_x  ...  carry_end_location_y  end_zone  \\\n",
      "0  Viktoria Schnaderbeck        28.2  ...                  55.6        63   \n",
      "1           Ria Percival        47.2  ...                  48.8        53   \n",
      "2            Keira Walsh        87.0  ...                  59.0        69   \n",
      "3          Martha Harris        48.1  ...                   NaN         6   \n",
      "4          Millie Bright        42.6  ...                   NaN        68   \n",
      "\n",
      "   xT_start    xT_end  xT_added  event_sec  best_realistic_alternative_xt  \\\n",
      "0  0.777849  0.788619  0.010770       18.0                       0.003631   \n",
      "1  0.807497  0.848313  0.040816     3263.0                      -0.018878   \n",
      "2  0.751510  0.749097 -0.002413     2922.0                       0.248490   \n",
      "3  0.749376  0.765935  0.016559     5397.0                       0.022048   \n",
      "4  0.807497  0.751510 -0.055987       99.0                      -0.018878   \n",
      "\n",
      "   num_alternatives_considered  realistic_decision_efficiency_delta  \\\n",
      "0                            2                             0.007139   \n",
      "1                            1                             0.059694   \n",
      "2                            3                            -0.250903   \n",
      "3                            2                            -0.005489   \n",
      "4                            1                            -0.037109   \n",
      "\n",
      "   realistic_decision_efficiency_ratio  \n",
      "0                             2.965809  \n",
      "1                            -2.162080  \n",
      "2                            -0.009709  \n",
      "3                             0.751041  \n",
      "4                             2.965706  \n",
      "\n",
      "[5 rows x 25 columns]\n"
     ]
    }
   ],
   "source": [
    "import pandas as pd\n",
    "\n",
    "player_df = pd.read_csv(PLAYER_AGG_CSV)\n",
    "team_df = pd.read_csv(TEAM_AGG_CSV)\n",
    "sample_df = pd.read_csv(SAMPLE_OUT_QUICK)\n",
    "\n",
    "print(\"Players shape:\", player_df.shape)\n",
    "print(player_df.head())\n",
    "\n",
    "print(\"\\nTeams shape:\", team_df.shape)\n",
    "print(team_df.head())\n",
    "\n",
    "print(\"\\nSample shape:\", sample_df.shape)\n",
    "print(sample_df.head())"
   ]
  },
  {
   "cell_type": "code",
   "execution_count": 36,
   "id": "7436f0e3",
   "metadata": {},
   "outputs": [
    {
     "name": "stdout",
     "output_type": "stream",
     "text": [
      "Efficiency delta range: -0.2950897853866148 to 0.2763111026307445\n",
      "Efficiency ratio range: -218.82944396819423 to 44237.14760183641\n",
      "Mean player efficiency ratio: 216.20838644344227\n",
      "Mean team efficiency ratio: 60.33095593619574\n"
     ]
    }
   ],
   "source": [
    "print(\"Efficiency delta range:\", sample_df[\"realistic_decision_efficiency_delta\"].min(),\n",
    "      \"to\", sample_df[\"realistic_decision_efficiency_delta\"].max())\n",
    "\n",
    "print(\"Efficiency ratio range:\", sample_df[\"realistic_decision_efficiency_ratio\"].min(),\n",
    "      \"to\", sample_df[\"realistic_decision_efficiency_ratio\"].max())\n",
    "\n",
    "print(\"Mean player efficiency ratio:\", player_df[\"avg_efficiency_ratio\"].mean())\n",
    "print(\"Mean team efficiency ratio:\", team_df[\"avg_efficiency_ratio\"].mean())\n"
   ]
  },
  {
   "cell_type": "code",
   "execution_count": 37,
   "id": "df33bc22",
   "metadata": {},
   "outputs": [
    {
     "name": "stdout",
     "output_type": "stream",
     "text": [
      "                       player                        team  xT_added  \\\n",
      "1501           Alex Greenwood         Manchester City WFC  0.082378   \n",
      "2586             Jordan Nobbs                 Arsenal WFC  0.000000   \n",
      "2653            Léa Le Garrec  Brighton & Hove Albion WFC  0.000000   \n",
      "1055               Amy Turner           Manchester United  0.000000   \n",
      "705              Jordan Nobbs                 Arsenal WFC -0.040124   \n",
      "106              Jordan Nobbs                 Arsenal WFC  0.171784   \n",
      "589        Caitlin Jade Foord                 Arsenal WFC -0.241821   \n",
      "2468              Emma Follis         Birmingham City WFC -0.090850   \n",
      "2413              Drew Spence                 Chelsea FCW  0.000000   \n",
      "1600  Matilde Lundorf Skovsen  Brighton & Hove Albion WFC  0.118750   \n",
      "\n",
      "      best_realistic_alternative_xt  realistic_decision_efficiency_delta  \\\n",
      "1501                       0.009785                         7.259244e-02   \n",
      "2586                       0.014709                        -1.470942e-02   \n",
      "2653                       0.072007                        -7.200726e-02   \n",
      "1055                       0.025330                        -2.532972e-02   \n",
      "705                        0.168591                        -2.087146e-01   \n",
      "106                        0.171784                        -2.775558e-17   \n",
      "589                       -0.120663                        -1.211574e-01   \n",
      "2468                       0.000000                        -9.084968e-02   \n",
      "2413                       0.000000                         0.000000e+00   \n",
      "1600                      -0.073574                         1.923243e-01   \n",
      "\n",
      "      realistic_decision_efficiency_ratio  \n",
      "1501                             8.418451  \n",
      "2586                             0.000000  \n",
      "2653                             0.000000  \n",
      "1055                             0.000000  \n",
      "705                             -0.237994  \n",
      "106                              1.000000  \n",
      "589                              2.004093  \n",
      "2468                             0.000000  \n",
      "2413                             0.000000  \n",
      "1600                            -1.614009  \n"
     ]
    }
   ],
   "source": [
    "cols = [\"player\",\"team\",\"xT_added\",\"best_realistic_alternative_xt\",\n",
    "        \"realistic_decision_efficiency_delta\",\"realistic_decision_efficiency_ratio\"]\n",
    "print(sample_df[cols].sample(10, random_state=42))"
   ]
  },
  {
   "cell_type": "code",
   "execution_count": 38,
   "id": "3cc3d151",
   "metadata": {},
   "outputs": [
    {
     "name": "stdout",
     "output_type": "stream",
     "text": [
      "             player  actions_count   total_xT  avg_efficiency_delta  \\\n",
      "0  Benedicte Håland              2   0.135966              0.066056   \n",
      "1      Poppy Wilson              5   0.103079              0.040552   \n",
      "2     Sophie Harris             21   1.013436              0.040095   \n",
      "3   Liberty Piggott              1  -0.102559              0.030436   \n",
      "4    Marie Hourihan             34   1.041581              0.028459   \n",
      "5    Zecira Musovic              2   0.071622              0.028131   \n",
      "6     Laura Hartley              6   0.147243              0.026936   \n",
      "7      Melisa Filis             12  -0.074571              0.026443   \n",
      "8   Sophie Baggaley            561  16.128669              0.023146   \n",
      "9      Maisy Collis             27   0.058909              0.018070   \n",
      "\n",
      "   avg_efficiency_ratio  \n",
      "0              0.233491  \n",
      "1              0.352902  \n",
      "2           9999.990890  \n",
      "3              0.771149  \n",
      "4          11924.964984  \n",
      "5             -4.853710  \n",
      "6           7262.712899  \n",
      "7              0.032746  \n",
      "8           6496.713316  \n",
      "9             -2.066188  \n",
      "                         team  actions_count   total_xT  avg_efficiency_delta  \\\n",
      "0            Bristol City WFC          26298  12.722244             -0.012951   \n",
      "1                 Aston Villa          11507   2.650506             -0.013991   \n",
      "2               Liverpool WFC          19570  -7.717049             -0.016292   \n",
      "3             Yeovil Town LFC           7693  -8.352564             -0.014731   \n",
      "4  Brighton & Hove Albion WFC          33208 -11.392648             -0.016126   \n",
      "\n",
      "   avg_efficiency_ratio  \n",
      "0            171.829506  \n",
      "1             49.322035  \n",
      "2             20.698021  \n",
      "3            101.119437  \n",
      "4             76.794426  \n"
     ]
    }
   ],
   "source": [
    "print(player_df.nlargest(10, \"avg_efficiency_delta\"))\n",
    "print(team_df.nlargest(5, \"total_xT\"))"
   ]
  },
  {
   "cell_type": "code",
   "execution_count": null,
   "id": "75188908",
   "metadata": {},
   "outputs": [],
   "source": []
  }
 ],
 "metadata": {
  "kernelspec": {
   "display_name": "Python (football)",
   "language": "python",
   "name": "football"
  },
  "language_info": {
   "codemirror_mode": {
    "name": "ipython",
    "version": 3
   },
   "file_extension": ".py",
   "mimetype": "text/x-python",
   "name": "python",
   "nbconvert_exporter": "python",
   "pygments_lexer": "ipython3",
   "version": "3.10.18"
  }
 },
 "nbformat": 4,
 "nbformat_minor": 5
}
