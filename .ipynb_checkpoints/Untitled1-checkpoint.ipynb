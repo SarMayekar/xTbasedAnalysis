{
 "cells": [
  {
   "cell_type": "code",
   "execution_count": 1,
   "id": "e4d75876",
   "metadata": {
    "scrolled": true
   },
   "outputs": [
    {
     "name": "stdout",
     "output_type": "stream",
     "text": [
      "git-lfs/3.7.0 (GitHub; windows amd64; go 1.24.4; git 92dddf56)\n"
     ]
    }
   ],
   "source": [
    "!git lfs version"
   ]
  },
  {
   "cell_type": "code",
   "execution_count": 2,
   "id": "d77afa77",
   "metadata": {},
   "outputs": [],
   "source": [
    "import os\n",
    "os.chdir(\"C:/Users/hp/xT-Based Analysis\")"
   ]
  },
  {
   "cell_type": "code",
   "execution_count": 3,
   "id": "1e25be83",
   "metadata": {},
   "outputs": [
    {
     "name": "stdout",
     "output_type": "stream",
     "text": [
      "Updated Git hooks.\n",
      "Git LFS initialized.\n"
     ]
    }
   ],
   "source": [
    "!git lfs install"
   ]
  },
  {
   "cell_type": "code",
   "execution_count": 4,
   "id": "5fdee3a7",
   "metadata": {},
   "outputs": [
    {
     "name": "stdout",
     "output_type": "stream",
     "text": [
      "Tracking \"*.csv\"\n"
     ]
    }
   ],
   "source": [
    "!git lfs track \"*.csv\""
   ]
  },
  {
   "cell_type": "code",
   "execution_count": 5,
   "id": "ccb8adc2",
   "metadata": {},
   "outputs": [
    {
     "name": "stdout",
     "output_type": "stream",
     "text": [
      "*.csv filter=lfs diff=lfs merge=lfs -text\n"
     ]
    }
   ],
   "source": [
    "!cat .gitattributes"
   ]
  },
  {
   "cell_type": "code",
   "execution_count": 6,
   "id": "759fec64",
   "metadata": {},
   "outputs": [
    {
     "name": "stdout",
     "output_type": "stream",
     "text": [
      "rm 'wsl_events_all.csv'\n"
     ]
    }
   ],
   "source": [
    "!git rm --cached wsl_events_all.csv"
   ]
  },
  {
   "cell_type": "code",
   "execution_count": 7,
   "id": "4eb77aa2",
   "metadata": {},
   "outputs": [],
   "source": [
    "!git add .gitattributes"
   ]
  },
  {
   "cell_type": "code",
   "execution_count": 8,
   "id": "0f2e2ad6",
   "metadata": {},
   "outputs": [
    {
     "name": "stdout",
     "output_type": "stream",
     "text": [
      "[main c8263c9] Add Git LFS tracking for CSV files\n",
      " 2 files changed, 1 insertion(+), 1440593 deletions(-)\n",
      " create mode 100644 .gitattributes\n",
      " delete mode 100644 wsl_events_all.csv\n"
     ]
    }
   ],
   "source": [
    "!git commit -m \"Add Git LFS tracking for CSV files\""
   ]
  },
  {
   "cell_type": "code",
   "execution_count": 9,
   "id": "e0deedc7",
   "metadata": {},
   "outputs": [],
   "source": [
    "!git add wsl_events_all.csv"
   ]
  },
  {
   "cell_type": "code",
   "execution_count": 10,
   "id": "7fe52580",
   "metadata": {},
   "outputs": [
    {
     "name": "stdout",
     "output_type": "stream",
     "text": [
      "[main 8fb5d54] Add wsl_events_all.csv via Git LFS\n",
      " 1 file changed, 3 insertions(+)\n",
      " create mode 100644 wsl_events_all.csv\n"
     ]
    }
   ],
   "source": [
    "!git commit -m \"Add wsl_events_all.csv via Git LFS\""
   ]
  },
  {
   "cell_type": "code",
   "execution_count": 11,
   "id": "ba1745ad",
   "metadata": {},
   "outputs": [
    {
     "name": "stdout",
     "output_type": "stream",
     "text": [
      "Uploading LFS objects: 100% (1/1), 211 MB | 11 MB/s, done.\n"
     ]
    },
    {
     "name": "stderr",
     "output_type": "stream",
     "text": [
      "remote: error: Trace: df202768f068d689d0fd0bab8d040856069849674547426b85fb80cfefd6ac96        \n",
      "remote: error: See https://gh.io/lfs for more information.        \n",
      "remote: error: File wsl_events_all.csv is 200.14 MB; this exceeds GitHub's file size limit of 100.00 MB        \n",
      "remote: error: GH001: Large files detected. You may want to try Git Large File Storage - https://git-lfs.github.com.        \n",
      "To https://github.com/SarMayekar/xTbasedAnalysis.git\n",
      " ! [remote rejected] main -> main (pre-receive hook declined)\n",
      "error: failed to push some refs to 'https://github.com/SarMayekar/xTbasedAnalysis.git'\n"
     ]
    }
   ],
   "source": [
    "!git push origin main"
   ]
  },
  {
   "cell_type": "code",
   "execution_count": 12,
   "id": "0ebddd89",
   "metadata": {},
   "outputs": [
    {
     "name": "stdout",
     "output_type": "stream",
     "text": [
      "Checking LFS status...\n",
      "62f58a9949 * wsl_events_all.csv\n"
     ]
    }
   ],
   "source": [
    "print(\"Checking LFS status...\")\n",
    "!git lfs ls-files"
   ]
  },
  {
   "cell_type": "code",
   "execution_count": 13,
   "id": "f293f94b",
   "metadata": {},
   "outputs": [
    {
     "name": "stdout",
     "output_type": "stream",
     "text": [
      "\n",
      "Checking repository size...\n",
      "count: 28\n",
      "size: 64.32 MiB\n",
      "in-pack: 0\n",
      "packs: 0\n",
      "size-pack: 0 bytes\n",
      "prune-packable: 0\n",
      "garbage: 0\n",
      "size-garbage: 0 bytes\n"
     ]
    }
   ],
   "source": [
    "print(\"\\nChecking repository size...\")\n",
    "!git count-objects -vH"
   ]
  },
  {
   "cell_type": "code",
   "execution_count": 14,
   "id": "17a5eb80",
   "metadata": {},
   "outputs": [
    {
     "name": "stdout",
     "output_type": "stream",
     "text": [
      "On branch main\n",
      "Changes not staged for commit:\n",
      "  (use \"git add <file>...\" to update what will be committed)\n",
      "  (use \"git restore <file>...\" to discard changes in working directory)\n",
      "\tmodified:   wsl_matches_all.csv\n",
      "\n",
      "Untracked files:\n",
      "  (use \"git add <file>...\" to include in what will be committed)\n",
      "\t.ipynb_checkpoints/Untitled1-checkpoint.ipynb\n",
      "\tUntitled1.ipynb\n",
      "\n",
      "no changes added to commit (use \"git add\" and/or \"git commit -a\")\n",
      "62f58a9949 * wsl_events_all.csv\n",
      " Volume in drive C has no label.\n",
      " Volume Serial Number is 3EE4-4128\n",
      "\n",
      " Directory of C:\\Users\\hp\\xT-Based Analysis\n",
      "\n",
      "23-09-2025  00:30    <DIR>          .\n",
      "23-09-2025  00:19    <DIR>          ..\n",
      "23-09-2025  00:27                43 .gitattributes\n",
      "23-09-2025  00:09                64 .gitignore.txt\n",
      "23-09-2025  00:25    <DIR>          .ipynb_checkpoints\n",
      "31-08-2025  23:05           174,697 1. Data Acquisition & Game State.ipynb\n",
      "27-08-2025  06:40           176,371 2. xT Model Construction.ipynb\n",
      "27-08-2025  17:50            25,848 3. Decision Making.ipynb\n",
      "27-08-2025  18:40           165,342 4. Game State Integration.ipynb\n",
      "30-08-2025  08:03           565,284 5. Visualizations.ipynb\n",
      "21-08-2025  01:25         4,463,637 job-16061275-result.jsonl\n",
      "23-09-2025  00:17                63 README.md\n",
      "27-08-2025  04:11            12,044 Untitled.ipynb\n",
      "23-09-2025  00:30             5,632 Untitled1.ipynb\n",
      "23-09-2025  00:27       211,298,325 wsl_events_all.csv\n",
      "23-09-2025  00:27           122,583 wsl_matches_all.csv\n",
      "              13 File(s)    217,009,933 bytes\n",
      "               3 Dir(s)  22,681,882,624 bytes free\n"
     ]
    }
   ],
   "source": [
    "# Cell 1: Check repository status\n",
    "import os\n",
    "os.chdir(\"C:/Users/hp/xT-Based Analysis\")\n",
    "\n",
    "# Check what files are tracked by Git\n",
    "!git status\n",
    "\n",
    "# Check what files are tracked by LFS\n",
    "!git lfs ls-files\n",
    "\n",
    "# List all files in your directory\n",
    "!dir"
   ]
  },
  {
   "cell_type": "code",
   "execution_count": 15,
   "id": "ba499e97",
   "metadata": {},
   "outputs": [
    {
     "name": "stdout",
     "output_type": "stream",
     "text": [
      "origin\thttps://github.com/SarMayekar/xTbasedAnalysis.git (fetch)\n",
      "origin\thttps://github.com/SarMayekar/xTbasedAnalysis.git (push)\n",
      "8fb5d54 Add wsl_events_all.csv via Git LFS\n",
      "c8263c9 Add Git LFS tracking for CSV files\n",
      "9189d25 Merge branch 'main' of https://github.com/SarMayekar/xTbasedAnalysis\n",
      "566f5f6 Added xT based Analysis\n",
      "00fc42d First commit - xT based Analysis\n"
     ]
    }
   ],
   "source": [
    "# Cell 2: Check remote repository status\n",
    "!git remote -v\n",
    "!git log --oneline -5"
   ]
  },
  {
   "cell_type": "code",
   "execution_count": 16,
   "id": "66aedfa7",
   "metadata": {},
   "outputs": [
    {
     "name": "stdout",
     "output_type": "stream",
     "text": [
      "* main\n",
      "  remotes/origin/main\n",
      "M\twsl_matches_all.csv\n"
     ]
    },
    {
     "name": "stderr",
     "output_type": "stream",
     "text": [
      "Already on 'main'\n"
     ]
    }
   ],
   "source": [
    "# Check all branches\n",
    "!git branch -a\n",
    "\n",
    "# If you're on a different branch, switch to main\n",
    "!git checkout main"
   ]
  },
  {
   "cell_type": "code",
   "execution_count": 17,
   "id": "3fa95c32",
   "metadata": {
    "scrolled": false
   },
   "outputs": [
    {
     "name": "stdout",
     "output_type": "stream",
     "text": [
      "On branch main\n",
      "Changes not staged for commit:\n",
      "  (use \"git add <file>...\" to update what will be committed)\n",
      "  (use \"git restore <file>...\" to discard changes in working directory)\n",
      "\tmodified:   wsl_matches_all.csv\n",
      "\n",
      "Untracked files:\n",
      "  (use \"git add <file>...\" to include in what will be committed)\n",
      "\t.ipynb_checkpoints/Untitled1-checkpoint.ipynb\n",
      "\tUntitled1.ipynb\n",
      "\n",
      "no changes added to commit (use \"git add\" and/or \"git commit -a\")\n"
     ]
    },
    {
     "name": "stderr",
     "output_type": "stream",
     "text": [
      "warning: in the working copy of '.ipynb_checkpoints/Untitled1-checkpoint.ipynb', LF will be replaced by CRLF the next time Git touches it\n",
      "warning: in the working copy of 'Untitled1.ipynb', LF will be replaced by CRLF the next time Git touches it\n"
     ]
    },
    {
     "name": "stdout",
     "output_type": "stream",
     "text": [
      "[main 09dc0f4] Add all project files\n",
      " 3 files changed, 374 insertions(+), 442 deletions(-)\n",
      " create mode 100644 .ipynb_checkpoints/Untitled1-checkpoint.ipynb\n",
      " create mode 100644 Untitled1.ipynb\n",
      "Uploading LFS objects: 100% (2/2), 211 MB | 0 B/s, done.\n"
     ]
    },
    {
     "name": "stderr",
     "output_type": "stream",
     "text": [
      "remote: error: Trace: ed7fbe11a443fb03122acd5db31eddcb3b9f2d6f22c77bd311d19a18fd8b04e3        \n",
      "remote: error: See https://gh.io/lfs for more information.        \n",
      "remote: error: File wsl_events_all.csv is 200.14 MB; this exceeds GitHub's file size limit of 100.00 MB        \n",
      "remote: error: GH001: Large files detected. You may want to try Git Large File Storage - https://git-lfs.github.com.        \n",
      "To https://github.com/SarMayekar/xTbasedAnalysis.git\n",
      " ! [remote rejected] main -> main (pre-receive hook declined)\n",
      "error: failed to push some refs to 'https://github.com/SarMayekar/xTbasedAnalysis.git'\n"
     ]
    }
   ],
   "source": [
    "# Check if files are staged/committed\n",
    "!git status\n",
    "\n",
    "# If files show as untracked, add and commit them\n",
    "!git add .\n",
    "!git commit -m \"Add all project files\"\n",
    "!git push origin main"
   ]
  },
  {
   "cell_type": "code",
   "execution_count": 18,
   "id": "21502d53",
   "metadata": {},
   "outputs": [
    {
     "name": "stdout",
     "output_type": "stream",
     "text": [
      "*.csv filter=lfs diff=lfs merge=lfs -text\n",
      "62f58a9949 * wsl_events_all.csv\n",
      "6791a882d8 * wsl_matches_all.csv\n",
      "git-lfs/3.7.0 (GitHub; windows amd64; go 1.24.4; git 92dddf56)\n",
      "git version 2.51.0.windows.1\n",
      "\n",
      "Endpoint=https://github.com/SarMayekar/xTbasedAnalysis.git/info/lfs (auth=basic)\n",
      "LocalWorkingDir=C:\\Users\\hp\\xT-Based Analysis\n",
      "LocalGitDir=C:\\Users\\hp\\xT-Based Analysis\\.git\n",
      "LocalGitStorageDir=C:\\Users\\hp\\xT-Based Analysis\\.git\n",
      "LocalMediaDir=C:\\Users\\hp\\xT-Based Analysis\\.git\\lfs\\objects\n",
      "LocalReferenceDirs=\n",
      "TempDir=C:\\Users\\hp\\xT-Based Analysis\\.git\\lfs\\tmp\n",
      "ConcurrentTransfers=8\n",
      "TusTransfers=false\n",
      "BasicTransfersOnly=false\n",
      "SkipDownloadErrors=false\n",
      "FetchRecentAlways=false\n",
      "FetchRecentRefsDays=7\n",
      "FetchRecentCommitsDays=0\n",
      "FetchRecentRefsIncludeRemotes=true\n",
      "PruneOffsetDays=3\n",
      "PruneVerifyRemoteAlways=false\n",
      "PruneVerifyUnreachableAlways=false\n",
      "PruneRemoteName=origin\n",
      "LfsStorageDir=C:\\Users\\hp\\xT-Based Analysis\\.git\\lfs\n",
      "AccessDownload=basic\n",
      "AccessUpload=basic\n",
      "DownloadTransfers=basic,lfs-standalone-file,ssh\n",
      "UploadTransfers=basic,lfs-standalone-file,ssh\n",
      "GIT_EXEC_PATH=C:/Program Files/Git/mingw64/libexec/git-core\n",
      "GIT_PAGER=cat\n",
      "git config filter.lfs.process = \"git-lfs filter-process\"\n",
      "git config filter.lfs.smudge = \"git-lfs smudge -- %f\"\n",
      "git config filter.lfs.clean = \"git-lfs clean -- %f\"\n"
     ]
    }
   ],
   "source": [
    "# Cell 1: Check LFS configuration\n",
    "import os\n",
    "os.chdir(\"C:/Users/hp/xT-Based Analysis\")\n",
    "\n",
    "# Check if .gitattributes is correct\n",
    "!cat .gitattributes\n",
    "\n",
    "# Check what LFS is actually tracking\n",
    "!git lfs ls-files\n",
    "\n",
    "# Check LFS environment\n",
    "!git lfs env"
   ]
  },
  {
   "cell_type": "code",
   "execution_count": 19,
   "id": "bd6632bd",
   "metadata": {},
   "outputs": [
    {
     "name": "stdout",
     "output_type": "stream",
     "text": [
      "*.csv filter=lfs diff=lfs merge=lfs -text\n"
     ]
    }
   ],
   "source": [
    "# Cell 2: Properly configure LFS\n",
    "# Remove the current .gitattributes and create a new one\n",
    "!rm .gitattributes\n",
    "\n",
    "# Create proper .gitattributes with LFS tracking\n",
    "with open('.gitattributes', 'w') as f:\n",
    "    f.write('*.csv filter=lfs diff=lfs merge=lfs -text\\n')\n",
    "\n",
    "# Verify the file\n",
    "!cat .gitattributes"
   ]
  },
  {
   "cell_type": "code",
   "execution_count": 20,
   "id": "984454d2",
   "metadata": {},
   "outputs": [
    {
     "name": "stdout",
     "output_type": "stream",
     "text": [
      "rm 'wsl_events_all.csv'\n",
      "rm 'wsl_matches_all.csv'\n",
      "[main d7b49d4] Fix Git LFS configuration\n",
      " 2 files changed, 6 deletions(-)\n",
      " delete mode 100644 wsl_events_all.csv\n",
      " delete mode 100644 wsl_matches_all.csv\n"
     ]
    }
   ],
   "source": [
    "# Cell 3: Completely remove the file from Git\n",
    "# First, backup your important files\n",
    "import shutil\n",
    "shutil.copy2('wsl_events_all.csv', 'wsl_events_all.csv.backup')\n",
    "shutil.copy2('wsl_matches_all.csv', 'wsl_matches_all.csv.backup')\n",
    "\n",
    "# Remove both CSV files from Git\n",
    "!git rm --cached wsl_events_all.csv\n",
    "!git rm --cached wsl_matches_all.csv\n",
    "\n",
    "# Add the correct .gitattributes\n",
    "!git add .gitattributes\n",
    "!git commit -m \"Fix Git LFS configuration\""
   ]
  },
  {
   "cell_type": "code",
   "execution_count": 21,
   "id": "de4f9d9e",
   "metadata": {},
   "outputs": [
    {
     "name": "stdout",
     "output_type": "stream",
     "text": [
      "\"*.csv\" already supported\n",
      "*.csv filter=lfs diff=lfs merge=lfs -text\n",
      "62f58a9949 * wsl_events_all.csv\n",
      "6791a882d8 * wsl_matches_all.csv\n"
     ]
    }
   ],
   "source": [
    "# Cell 4: Re-add files with LFS\n",
    "# Track CSV files with LFS\n",
    "!git lfs track \"*.csv\"\n",
    "\n",
    "# Verify tracking\n",
    "!cat .gitattributes\n",
    "\n",
    "# Add the CSV files (they should now be tracked by LFS)\n",
    "!git add wsl_events_all.csv\n",
    "!git add wsl_matches_all.csv\n",
    "\n",
    "# Check what's being tracked by LFS\n",
    "!git lfs ls-files"
   ]
  },
  {
   "cell_type": "code",
   "execution_count": 22,
   "id": "4fccc7fe",
   "metadata": {},
   "outputs": [
    {
     "name": "stdout",
     "output_type": "stream",
     "text": [
      "[main ffcfbd3] Add CSV files via Git LFS\n",
      " 2 files changed, 6 insertions(+)\n",
      " create mode 100644 wsl_events_all.csv\n",
      " create mode 100644 wsl_matches_all.csv\n",
      "Uploading LFS objects: 100% (2/2), 211 MB | 0 B/s, done.\n"
     ]
    },
    {
     "name": "stderr",
     "output_type": "stream",
     "text": [
      "remote: error: Trace: 97652dcc0ca5da3be18906b962ffc1a076af7562f51715d9a34ad8e61137c08f        \n",
      "remote: error: See https://gh.io/lfs for more information.        \n",
      "remote: error: File wsl_events_all.csv is 200.14 MB; this exceeds GitHub's file size limit of 100.00 MB        \n",
      "remote: error: GH001: Large files detected. You may want to try Git Large File Storage - https://git-lfs.github.com.        \n",
      "To https://github.com/SarMayekar/xTbasedAnalysis.git\n",
      " ! [remote rejected] main -> main (pre-receive hook declined)\n",
      "error: failed to push some refs to 'https://github.com/SarMayekar/xTbasedAnalysis.git'\n"
     ]
    }
   ],
   "source": [
    "# Cell 5: Commit and push\n",
    "!git commit -m \"Add CSV files via Git LFS\"\n",
    "\n",
    "# Push to GitHub\n",
    "!git push origin main"
   ]
  },
  {
   "cell_type": "code",
   "execution_count": null,
   "id": "134e5df2",
   "metadata": {},
   "outputs": [],
   "source": []
  }
 ],
 "metadata": {
  "kernelspec": {
   "display_name": "Python (football)",
   "language": "python",
   "name": "football"
  },
  "language_info": {
   "codemirror_mode": {
    "name": "ipython",
    "version": 3
   },
   "file_extension": ".py",
   "mimetype": "text/x-python",
   "name": "python",
   "nbconvert_exporter": "python",
   "pygments_lexer": "ipython3",
   "version": "3.10.18"
  }
 },
 "nbformat": 4,
 "nbformat_minor": 5
}
